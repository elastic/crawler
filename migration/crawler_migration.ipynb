{
 "cells": [
  {
   "cell_type": "markdown",
   "id": "89b4646f-6a71-44e0-97b9-846319bf0162",
   "metadata": {},
   "source": [
    "## Hello, future Elastic Open Crawler user!\n",
    "This notebook is designed to help you painlessly migrate your Elastic Crawler configurations to Open Crawler-friendly YAML!\n",
    "\n",
    "We recommend running each cell individually in a sequential fashion, as each cell is dependent on previous cells having been run."
   ]
  },
  {
   "cell_type": "markdown",
   "id": "f8b41584-1cce-440e-b3af-e8ae0cb1312c",
   "metadata": {},
   "source": [
    "_If you are running this notebook inside Google Colab, or have not installed elasticsearch in your local environment yet, please run the following cell to make sure the Python `elasticsearch` client is installed._"
   ]
  },
  {
   "cell_type": "markdown",
   "id": "8bc65371-58ea-4be9-a319-2f7ed9713145",
   "metadata": {},
   "source": [
    "### Setup\n",
    "First, let's start by making sure `elasticsearch` and other required dependencies are installed and imported by running the following cell:"
   ]
  },
  {
   "cell_type": "code",
   "execution_count": 1,
   "id": "da411d2f-9aff-46af-845a-5fe9be19ea3c",
   "metadata": {},
   "outputs": [
    {
     "name": "stdout",
     "output_type": "stream",
     "text": [
      "Requirement already satisfied: elasticsearch in /Users/mattnowzari/repos/python/mn_venv/lib/python3.12/site-packages (8.17.1)\n",
      "Requirement already satisfied: elastic-transport<9,>=8.15.1 in /Users/mattnowzari/repos/python/mn_venv/lib/python3.12/site-packages (from elasticsearch) (8.17.0)\n",
      "Requirement already satisfied: urllib3<3,>=1.26.2 in /Users/mattnowzari/repos/python/mn_venv/lib/python3.12/site-packages (from elastic-transport<9,>=8.15.1->elasticsearch) (2.3.0)\n",
      "Requirement already satisfied: certifi in /Users/mattnowzari/repos/python/mn_venv/lib/python3.12/site-packages (from elastic-transport<9,>=8.15.1->elasticsearch) (2024.12.14)\n"
     ]
    }
   ],
   "source": [
    "!pip install elasticsearch\n",
    "\n",
    "from getpass import getpass\n",
    "from elasticsearch import Elasticsearch\n",
    "import json"
   ]
  },
  {
   "cell_type": "markdown",
   "id": "f4131f88-9895-4c0e-8b0a-6ec7b3b45653",
   "metadata": {},
   "source": [
    "We are going to need a few things from your Elasticsearch deployment before we can migrate your configurations:\n",
    "- Your **Elasticsearch Cloud ID**\n",
    "- An **API key**\n",
    "\n",
    "To find the Cloud ID for your deployment, go to https://cloud.elastic.co/deployments and select your deployment.\n",
    "You can create a new API key from the Stack Management -> API keys menu in Kibana. Be sure to copy or write down your key in a safe place once it is created it will be displayed only upon creation."
   ]
  },
  {
   "cell_type": "code",
   "execution_count": 6,
   "id": "08e6e3d2-62d3-4890-a6be-41fe0a931ef6",
   "metadata": {},
   "outputs": [
    {
     "name": "stdin",
     "output_type": "stream",
     "text": [
      "Elastic Cloud ID:  ········\n",
      "Elastic Api Key:  ········\n"
     ]
    }
   ],
   "source": [
    "ELASTIC_CLOUD_ID = getpass(\"Elastic Cloud ID: \")\n",
    "API_KEY = getpass(\"Elastic Api Key: \")"
   ]
  },
  {
   "cell_type": "markdown",
   "id": "4993104f-ebb6-4715-b758-1fa262a224f3",
   "metadata": {},
   "source": [
    "Great! Now let's try connecting to your Elasticsearch instance."
   ]
  },
  {
   "cell_type": "code",
   "execution_count": 7,
   "id": "f3ada2cb-b00f-4b1d-be09-57b2ccf25c7c",
   "metadata": {},
   "outputs": [
    {
     "data": {
      "text/plain": [
       "'You Know, for Search'"
      ]
     },
     "execution_count": 7,
     "metadata": {},
     "output_type": "execute_result"
    }
   ],
   "source": [
    "es_client = Elasticsearch(\n",
    "    cloud_id=ELASTIC_CLOUD_ID,\n",
    "    api_key=API_KEY,\n",
    ")\n",
    "\n",
    "# ping ES to make sure we have positive connection\n",
    "es_client.info()['tagline']"
   ]
  },
  {
   "cell_type": "markdown",
   "id": "85f99942-58ae-437d-a72b-70b8d1f4432c",
   "metadata": {},
   "source": [
    "Hopefully you received our tagline 'You Know, for Search'. If so, we are connected and ready to go!\n",
    "\n",
    "If not, please double-check your Cloud ID and API key that you provided above. "
   ]
  },
  {
   "cell_type": "markdown",
   "id": "a55236e7-19dc-4f4c-92b9-d10848dd6af9",
   "metadata": {},
   "source": [
    "#### Step 1: Grabbing basic configurations\n",
    "\n",
    "The first order of business is to establish what Crawlers you have, and their basic configuration details.\n",
    "This migration notebook will attempt to pull configurations for every distinct Crawler you have in your Elasticsearch instance."
   ]
  },
  {
   "cell_type": "code",
   "execution_count": 4,
   "id": "0a698b05-e939-42a5-aa31-51b1b1883e6f",
   "metadata": {},
   "outputs": [],
   "source": [
    "# define an intermediate data structure\n",
    "inflight_configuration_data = {}\n",
    "\n",
    "crawler_configurations = es_client.search(\n",
    "    index=\".ent-search-actastic-crawler2_extraction_rules\",\n",
    ")\n",
    "\n",
    "for configuration in crawler_configurations[\"hits\"][\"hits\"]:\n",
    "    source = configuration['_source']\n",
    "    conf_map = {} # this will be the entire config hashmap for a single Crawler\n",
    "    output_index = configuration[\"_index\"]"
   ]
  },
  {
   "cell_type": "code",
   "execution_count": null,
   "id": "8ee89b6a-00fe-4048-a6d6-a90fdbaaceed",
   "metadata": {},
   "outputs": [],
   "source": []
  }
 ],
 "metadata": {
  "kernelspec": {
   "display_name": "Python 3 (ipykernel)",
   "language": "python",
   "name": "python3"
  },
  "language_info": {
   "codemirror_mode": {
    "name": "ipython",
    "version": 3
   },
   "file_extension": ".py",
   "mimetype": "text/x-python",
   "name": "python",
   "nbconvert_exporter": "python",
   "pygments_lexer": "ipython3",
   "version": "3.12.8"
  }
 },
 "nbformat": 4,
 "nbformat_minor": 5
}
